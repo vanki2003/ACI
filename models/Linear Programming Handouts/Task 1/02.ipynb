{
 "cells": [
  {
   "cell_type": "markdown",
   "metadata": {},
   "source": [
    "\n",
    "\n",
    "## Problem 1\n",
    "*A farmer plans to mix two types of food to make a mix of low cost feed for the animals in his\n",
    "farm. A bag of food A costs $10 and contains 40 units of proteins, 20 units of minerals and 10\n",
    "units of vitamins. A bag of food B costs $12 and contains 30 units of proteins, 20 units of\n",
    "minerals and 30 units of vitamins. How many bags of food A and B should the consumed by\n",
    "the animals each day in order to meet the minimum daily requirements of 150 units of\n",
    "proteins, 90 units of minerals and 60 units of vitamins at a minimum cost?*\n",
    "\n",
    "## Variable declerations\n",
    "\n",
    "* a - food A\n",
    "* b - food B\n",
    "* c - cost\n",
    "\n",
    "### Objective function\n",
    "\n",
    "* min(c) = 10a + 12b\n",
    "\n",
    "### Constraints\n",
    "\n",
    "* proteins 40a + 30b <= 150\n",
    "* minerals 20a + 20b <= 90\n",
    "* vitamins 10a + 30b <= 60\n",
    "\n",
    "\n",
    "### Bounds\n",
    "\n",
    "* \n",
    "* \n",
    "* \n",
    "* \n",
    "\n",
    "### Answers \n",
    "\n",
    "277800, 20603.33, 52, 42800"
   ]
  },
  {
   "cell_type": "code",
   "execution_count": 23,
   "metadata": {},
   "outputs": [],
   "source": [
    "# import libraries\n",
    "from pulp import *\n",
    "\n",
    "# create the linear programming model\n",
    "lp = LpProblem(\"Food\", LpMinimize)\n",
    "\n",
    "# define variables\n",
    "a = LpVariable(name='Food A', lowBound=0, cat='Integer')\n",
    "b = LpVariable(name='Food B', lowBound=0, cat='Integer')"
   ]
  },
  {
   "cell_type": "code",
   "execution_count": 24,
   "metadata": {},
   "outputs": [
    {
     "data": {
      "text/plain": [
       "Food:\n",
       "MINIMIZE\n",
       "10*Food_A + 12*Food_B + 0\n",
       "VARIABLES\n",
       "0 <= Food_A Integer\n",
       "0 <= Food_B Integer"
      ]
     },
     "execution_count": 24,
     "metadata": {},
     "output_type": "execute_result"
    }
   ],
   "source": [
    "lp.objective = (10*a) + (12*b)\n",
    "lp"
   ]
  },
  {
   "cell_type": "code",
   "execution_count": 25,
   "metadata": {},
   "outputs": [
    {
     "data": {
      "text/plain": [
       "OrderedDict([('proteins', 40*Food_A + 30*Food_B + -150 >= 0),\n",
       "             ('minerals', 1*Food_A + 20*Food_B + -70 >= 0),\n",
       "             ('vitamins', 10*Food_A + 30*Food_B + -60 >= 0)])"
      ]
     },
     "execution_count": 25,
     "metadata": {},
     "output_type": "execute_result"
    }
   ],
   "source": [
    "lp.addConstraint((40*a)+(30*b) >= 150, 'proteins')\n",
    "lp.addConstraint((20+a)+(20*b) >= 90, 'minerals')\n",
    "lp.addConstraint((10*a)+(30*b) >= 60, 'vitamins')\n",
    "lp.constraints"
   ]
  },
  {
   "cell_type": "code",
   "execution_count": 26,
   "metadata": {},
   "outputs": [
    {
     "name": "stdout",
     "output_type": "stream",
     "text": [
      "1\n",
      "Food_A = 1.0\n",
      "Food_B = 4.0\n",
      "OPT 58.0\n"
     ]
    }
   ],
   "source": [
    "# solve the linear programming problem\n",
    "# 1 = Optimal, 2 = Infeasible, 3 = Unbounded, 4 = Undefined, 5 = Not Solved\n",
    "\n",
    "status = lp.solve(PULP_CBC_CMD(msg=0))\n",
    "print(status)\n",
    "\n",
    "# print solution\n",
    "for var in lp.variables():\n",
    "    print(var,'=',value(var))\n",
    "    \n",
    "print('OPT',value(lp.objective))"
   ]
  }
 ],
 "metadata": {
  "kernelspec": {
   "display_name": "Python 3",
   "language": "python",
   "name": "python3"
  },
  "language_info": {
   "codemirror_mode": {
    "name": "ipython",
    "version": 3
   },
   "file_extension": ".py",
   "mimetype": "text/x-python",
   "name": "python",
   "nbconvert_exporter": "python",
   "pygments_lexer": "ipython3",
   "version": "3.11.9"
  }
 },
 "nbformat": 4,
 "nbformat_minor": 2
}
