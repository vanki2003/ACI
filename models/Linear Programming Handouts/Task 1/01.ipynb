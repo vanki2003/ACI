{
 "cells": [
  {
   "cell_type": "markdown",
   "metadata": {},
   "source": [
    "\n",
    "\n",
    "## Problem 1\n",
    "*A company produces two types of tables, T1 and T2. It takes 2 hours to produce the parts of\n",
    "one unit of T1, 1 hour to assemble and 2 hours to polish. It takes 3 hours to produce the parts\n",
    "of one unit of T2, 2.5 hour to assemble and 1.5 hours to polish. Per month, 7000 hours are\n",
    "available for producing the parts, 4000 hours for assembling the parts and 5500 hours for\n",
    "polishing the tables. The profit per unit of T1 is $90 and per unit of T2 is $110. How many of\n",
    "each type of tables should be produced in order to maximize the total monthly profit?*\n",
    "\n",
    "## Variable declerations\n",
    "\n",
    "* a - table1\n",
    "* b - table2\n",
    "* p - profit\n",
    "\n",
    "### Objective function\n",
    "\n",
    "* max(p) = a90 + b110\n",
    "\n",
    "### Constraints\n",
    "\n",
    "* producing 2a + 3b <= 7000\n",
    "* assembling a + 2.5b <= 4000\n",
    "* polishing 2a + 1.5b <= 5500\n",
    "\n",
    "\n",
    "### Bounds\n",
    "\n",
    "* \n",
    "* \n",
    "* \n",
    "* \n",
    "\n",
    "### Answers \n",
    "\n",
    "277800, 20603.33, 52, 42800"
   ]
  },
  {
   "cell_type": "code",
   "execution_count": 19,
   "metadata": {},
   "outputs": [],
   "source": [
    "# import libraries\n",
    "from pulp import *\n",
    "\n",
    "# create the linear programming model\n",
    "lp = LpProblem(\"Tables\", LpMaximize)\n",
    "\n",
    "# define variables\n",
    "a = LpVariable(name='Table 1', lowBound=0, cat='Integer')\n",
    "b = LpVariable(name='Table 2', lowBound=0, cat='Integer')"
   ]
  },
  {
   "cell_type": "code",
   "execution_count": 20,
   "metadata": {},
   "outputs": [
    {
     "data": {
      "text/plain": [
       "Tables:\n",
       "MAXIMIZE\n",
       "90*Table_1 + 110*Table_2 + 0\n",
       "VARIABLES\n",
       "0 <= Table_1 Integer\n",
       "0 <= Table_2 Integer"
      ]
     },
     "execution_count": 20,
     "metadata": {},
     "output_type": "execute_result"
    }
   ],
   "source": [
    "# specify objective function\n",
    "lp.objective = (90 * a) + (110*b)\n",
    "lp"
   ]
  },
  {
   "cell_type": "code",
   "execution_count": 21,
   "metadata": {},
   "outputs": [
    {
     "data": {
      "text/plain": [
       "OrderedDict([('Units', 1*Table_1 + 1*Table_2 + 0 >= 0),\n",
       "             ('producing', 2*Table_1 + 3*Table_2 + -7000 <= 0),\n",
       "             ('assembling', 1*Table_1 + 2.5*Table_2 + -4000.0 <= 0),\n",
       "             ('polishing', 2*Table_1 + 1.5*Table_2 + -5500.0 <= 0)])"
      ]
     },
     "execution_count": 21,
     "metadata": {},
     "output_type": "execute_result"
    }
   ],
   "source": [
    "lp.addConstraint(a+b >= 0, 'Units')\n",
    "lp.addConstraint((2*a)+(3*b) <= 7000, 'producing')\n",
    "lp.addConstraint((a)+(2.5*b) <= 4000, 'assembling')\n",
    "lp.addConstraint((2*a)+(1.5*b) <= 5500, 'polishing')\n",
    "lp.constraints"
   ]
  },
  {
   "cell_type": "code",
   "execution_count": 22,
   "metadata": {},
   "outputs": [
    {
     "name": "stdout",
     "output_type": "stream",
     "text": [
      "1\n",
      "Table_1 = 2214\n",
      "Table_2 = 714\n",
      "OPT 277800\n"
     ]
    }
   ],
   "source": [
    "# solve the linear programming problem\n",
    "# 1 = Optimal, 2 = Infeasible, 3 = Unbounded, 4 = Undefined, 5 = Not Solved\n",
    "\n",
    "status = lp.solve(GLPK(msg=0))\n",
    "print(status)\n",
    "\n",
    "# print solution\n",
    "for var in lp.variables():\n",
    "    print(var,'=',value(var))\n",
    "    \n",
    "print('OPT',value(lp.objective))"
   ]
  },
  {
   "cell_type": "code",
   "execution_count": null,
   "metadata": {},
   "outputs": [],
   "source": []
  }
 ],
 "metadata": {
  "kernelspec": {
   "display_name": "Python 3",
   "language": "python",
   "name": "python3"
  },
  "language_info": {
   "codemirror_mode": {
    "name": "ipython",
    "version": 3
   },
   "file_extension": ".py",
   "mimetype": "text/x-python",
   "name": "python",
   "nbconvert_exporter": "python",
   "pygments_lexer": "ipython3",
   "version": "3.11.2"
  }
 },
 "nbformat": 4,
 "nbformat_minor": 2
}
