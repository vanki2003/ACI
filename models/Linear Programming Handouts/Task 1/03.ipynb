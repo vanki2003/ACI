{
 "cells": [
  {
   "cell_type": "markdown",
   "metadata": {},
   "source": [
    "\n",
    "\n",
    "## Problem 1\n",
    "*John has $20,000 to invest in three funds F1, F2 and F3. Fund F1 is offers a return of 2% and\n",
    "has a low risk. Fund F2 offers a return of 4% and has a medium risk. Fund F3 offers a return of\n",
    "5% but has a high risk. To be on the safe side, John invests no more than $3000 in F3 and at\n",
    "least twice as much as in F1 than in F2. Assuming that the rates hold till the end of the year,\n",
    "what amounts should he invest in each fund in order to maximize the year end return?*\n",
    "\n",
    "## Variable declerations\n",
    "\n",
    "* a - f1\n",
    "* b - f2\n",
    "* c - f3\n",
    "* t - return\n",
    "\n",
    "### Objective function\n",
    "\n",
    "* max(t) = 0.02a + 0.04b + 0.05c\n",
    "\n",
    "### Constraints\n",
    "\n",
    "* a+b+c <= 20000\n",
    "* a >= 2b\n",
    "\n",
    "\n",
    "### Bounds\n",
    "\n",
    "* a >= 0\n",
    "* b >= 0\n",
    "* c >= 0\n",
    "* c <= 3000\n",
    "\n",
    "### Answers \n",
    "\n",
    "277800, 20603.33, 52, 42800"
   ]
  },
  {
   "cell_type": "code",
   "execution_count": 23,
   "metadata": {},
   "outputs": [],
   "source": [
    "# import libraries\n",
    "from pulp import *\n",
    "\n",
    "# create the linear programming model\n",
    "lp = LpProblem(\"Food\", LpMinimize)\n",
    "\n",
    "# define variables\n",
    "a = LpVariable(name='Food A', lowBound=0, cat='Integer')\n",
    "b = LpVariable(name='Food B', lowBound=0, cat='Integer')"
   ]
  },
  {
   "cell_type": "code",
   "execution_count": 24,
   "metadata": {},
   "outputs": [
    {
     "data": {
      "text/plain": [
       "Food:\n",
       "MINIMIZE\n",
       "10*Food_A + 12*Food_B + 0\n",
       "VARIABLES\n",
       "0 <= Food_A Integer\n",
       "0 <= Food_B Integer"
      ]
     },
     "execution_count": 24,
     "metadata": {},
     "output_type": "execute_result"
    }
   ],
   "source": [
    "lp.objective = (10*a) + (12*b)\n",
    "lp"
   ]
  },
  {
   "cell_type": "code",
   "execution_count": 25,
   "metadata": {},
   "outputs": [
    {
     "data": {
      "text/plain": [
       "OrderedDict([('proteins', 40*Food_A + 30*Food_B + -150 >= 0),\n",
       "             ('minerals', 1*Food_A + 20*Food_B + -70 >= 0),\n",
       "             ('vitamins', 10*Food_A + 30*Food_B + -60 >= 0)])"
      ]
     },
     "execution_count": 25,
     "metadata": {},
     "output_type": "execute_result"
    }
   ],
   "source": [
    "lp.addConstraint((40*a)+(30*b) >= 150, 'proteins')\n",
    "lp.addConstraint((20+a)+(20*b) >= 90, 'minerals')\n",
    "lp.addConstraint((10*a)+(30*b) >= 60, 'vitamins')\n",
    "lp.constraints"
   ]
  },
  {
   "cell_type": "code",
   "execution_count": 26,
   "metadata": {},
   "outputs": [
    {
     "name": "stdout",
     "output_type": "stream",
     "text": [
      "1\n",
      "Food_A = 1.0\n",
      "Food_B = 4.0\n",
      "OPT 58.0\n"
     ]
    }
   ],
   "source": [
    "# solve the linear programming problem\n",
    "# 1 = Optimal, 2 = Infeasible, 3 = Unbounded, 4 = Undefined, 5 = Not Solved\n",
    "\n",
    "status = lp.solve(PULP_CBC_CMD(msg=0))\n",
    "print(status)\n",
    "\n",
    "# print solution\n",
    "for var in lp.variables():\n",
    "    print(var,'=',value(var))\n",
    "    \n",
    "print('OPT',value(lp.objective))"
   ]
  }
 ],
 "metadata": {
  "kernelspec": {
   "display_name": "Python 3",
   "language": "python",
   "name": "python3"
  },
  "language_info": {
   "codemirror_mode": {
    "name": "ipython",
    "version": 3
   },
   "file_extension": ".py",
   "mimetype": "text/x-python",
   "name": "python",
   "nbconvert_exporter": "python",
   "pygments_lexer": "ipython3",
   "version": "3.11.9"
  }
 },
 "nbformat": 4,
 "nbformat_minor": 2
}
