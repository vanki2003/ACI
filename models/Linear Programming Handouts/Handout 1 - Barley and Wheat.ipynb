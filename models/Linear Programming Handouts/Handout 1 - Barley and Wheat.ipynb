{
 "cells": [
  {
   "cell_type": "markdown",
   "metadata": {},
   "source": [
    "# Linear Programming\n",
    "\n",
    "Linear programming is a mathematical technique to achieve the best outcome (such as maximum profit, or least possible cost), whilst having various constraints.\n",
    "\n",
    "For our course, we will be using the `pulp` library which you can find more information __[here](https://www.coin-or.org/PuLP/pulp.html)__.\n",
    "\n",
    "## Problem 1\n",
    "*Suppose a farmer has 75 acres on which to plant two crops: wheat and barley. To produce these crops, it costs the farmer (for seed, fertilizer, etc.) $120 per acre for the wheat and $210 per acre for the barley. The farmer has $15000 available for expenses. But after the harvest, the farmer must store the crops while awaiting favorable market conditions. The farmer has storage space for 4000 bushels.\n",
    "Each acre yields an average of 110 bushels of wheat or 30 bushels of barley. If the net profit per bushel of wheat (after all expenses have been subtracted) is $1.30 and for barley is $2.00, how should the farmer plant the 75 acres to maximize profit?*\n",
    "\n",
    "## Setting up the Problem\n",
    "\n",
    "The first task is to set up the problem by:\n",
    "- Creating an `LpProblem`\n",
    "- Defining the variables (including any bounds, and data type)\n",
    "\n",
    "## Variable declerations\n",
    "\n",
    "* w represents acres of wheat\n",
    "* b represents acres of barley\n",
    "* p represents total profit\n",
    "\n",
    "### Objective function\n",
    "\n",
    "* max(p): p = 1.3 * 110 * w + 2 * 20 * b\n",
    "\n",
    "### Constraints\n",
    "\n",
    "* 120w + 210b <= 15000\n",
    "\n",
    "* 110w + 30b <= 4000\n",
    "\n",
    "\n",
    "### Bounds\n",
    "\n",
    "* w >= 0\n",
    "* w <= 75\n",
    "* b >= 0\n",
    "* b <= 75\n"
   ]
  },
  {
   "cell_type": "code",
   "execution_count": 37,
   "metadata": {},
   "outputs": [],
   "source": [
    "# import libraries\n",
    "from pulp import *\n",
    "\n",
    "# create the linear programming model\n",
    "lp = LpProblem(\"Wheat\", LpMaximize)\n",
    "\n",
    "# define variables\n",
    "w = LpVariable(name='Wheat', lowBound=0, upBound=75, cat='Integer')\n",
    "b = LpVariable(name='Barley', lowBound=0, upBound=75, cat='Integer')"
   ]
  },
  {
   "cell_type": "markdown",
   "metadata": {},
   "source": [
    "## Determine the Objective\n",
    "\n",
    "Next step is to determine the objective\n",
    "\n",
    "In this case we have: \n",
    "- barley that has a net profit of 2 and every acre yields 30 bushels; hence we have $b*2*30$\n",
    "- wheat that has a net profit of 1.3 and every acre yields 110 bushels; hence we have $w*1.3*110$\n",
    "\n",
    "We want to maximize the profit, so we have $max(p) = b*2*30 + w*1.3*110$\n",
    "\n",
    "This can be coded as following"
   ]
  },
  {
   "cell_type": "code",
   "execution_count": 38,
   "metadata": {},
   "outputs": [
    {
     "data": {
      "text/plain": [
       "Wheat:\n",
       "MAXIMIZE\n",
       "60*Barley + 143.0*Wheat + 0.0\n",
       "VARIABLES\n",
       "0 <= Barley <= 75 Integer\n",
       "0 <= Wheat <= 75 Integer"
      ]
     },
     "execution_count": 38,
     "metadata": {},
     "output_type": "execute_result"
    }
   ],
   "source": [
    "# specify objective function\n",
    "lp.objective = (1.3*110*w) + (2*30*b)\n",
    "lp"
   ]
  },
  {
   "cell_type": "markdown",
   "metadata": {},
   "source": [
    "## Setting up the Constraints\n",
    "\n",
    "The next step is to plot out the constraints. In this case we have:\n",
    "- budget - The total budget is $15,000, wheat costs $120 per acre, and barley costs $210 per acre. The total cannot exceed the available budget hence: $120*w + 210*b <= 15000$\n",
    "- storage - The total storage available is 4000, wheat needs 110 per acre, and barley 30 per acre. The total bushels cannot exceed the available storage, hence: $110*w + 30*b <=4000$\n",
    "- fields - The total acreage of fields available is 75, hence the total of wheat and barley cannot exceed it: $w+b<=75$"
   ]
  },
  {
   "cell_type": "code",
   "execution_count": 39,
   "metadata": {},
   "outputs": [
    {
     "data": {
      "text/plain": [
       "OrderedDict([('area', 1*Barley + 1*Wheat + -75 <= 0),\n",
       "             ('budget', 210*Barley + 120*Wheat + -15000 <= 0),\n",
       "             ('space', 30*Barley + 110*Wheat + -4000 <= 0)])"
      ]
     },
     "execution_count": 39,
     "metadata": {},
     "output_type": "execute_result"
    }
   ],
   "source": [
    "# specify constraints\n",
    "lp.addConstraint(w+b<=75, 'area')\n",
    "lp.addConstraint((120*w)+(210*b)<=15000, 'budget')\n",
    "lp.addConstraint((110*w)+(30*b)<=4000, 'space')\n",
    "lp.constraints "
   ]
  },
  {
   "cell_type": "markdown",
   "metadata": {},
   "source": [
    "## Solving the Problem\n",
    "\n",
    "The last step is to solve the problem. This can be done by calling the `solve` function."
   ]
  },
  {
   "cell_type": "code",
   "execution_count": 40,
   "metadata": {},
   "outputs": [
    {
     "name": "stdout",
     "output_type": "stream",
     "text": [
      "1\n",
      "Barley = 52.0\n",
      "Wheat = 22.0\n",
      "OPT 6266.0\n"
     ]
    }
   ],
   "source": [
    "# solve the linear programming problem\n",
    "# 1 = Optimal, 2 = Infeasible, 3 = Unbounded, 4 = Undefined, 5 = Not Solved\n",
    "\n",
    "status = lp.solve(PULP_CBC_CMD(msg=0))\n",
    "print(status)\n",
    "\n",
    "# print solution\n",
    "for var in lp.variables():\n",
    "    print(var,'=',value(var))\n",
    "    \n",
    "print('OPT',value(lp.objective))"
   ]
  },
  {
   "cell_type": "markdown",
   "metadata": {},
   "source": [
    "If we look at the outcome we have:\n",
    "- status = 1 - The staus is optimal (it can be not solved, infeasible, unbounded or undef)\n",
    "- Barley = 53.125 - The farmer should sow barley in 53.125 acres of fields\n",
    "- Wheat = 21.875 - The farmer should sow wheat in 21.875 acres of fields\n",
    "- Opt = 6315.625 - If the farmer sows the recommened distribution he would earn $6315.63"
   ]
  }
 ],
 "metadata": {
  "kernelspec": {
   "display_name": "Python 3",
   "language": "python",
   "name": "python3"
  },
  "language_info": {
   "codemirror_mode": {
    "name": "ipython",
    "version": 3
   },
   "file_extension": ".py",
   "mimetype": "text/x-python",
   "name": "python",
   "nbconvert_exporter": "python",
   "pygments_lexer": "ipython3",
   "version": "3.12.7"
  },
  "orig_nbformat": 4
 },
 "nbformat": 4,
 "nbformat_minor": 2
}
