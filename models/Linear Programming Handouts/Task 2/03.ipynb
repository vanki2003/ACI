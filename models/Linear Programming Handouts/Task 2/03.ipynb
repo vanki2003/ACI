{
 "cells": [
  {
   "cell_type": "markdown",
   "metadata": {},
   "source": [
    "## Problem 1\n",
    "*You need to buy some filing cabinets. You know that Cabinet X costs $10 per unit, requires 6\n",
    "square feet of floor space, and holds 8 cubic feet of files. Cabinet Y costs $20 per unit,\n",
    "requires 8 square feet of floor space, and holds 12 cubic feet of files. You have been given\n",
    "$140 for this purchase, though you don't have to spend that much. The office has room for no\n",
    "more than 72 square feet of cabinets. How many of which model should you buy, in order to\n",
    "maximise storage volume?*\n",
    "\n",
    "## Variable declarations\n",
    "\n",
    "* let x represent the total funds invested in bonds\n",
    "* let y represent the total funds investment in CD\n",
    "* let z represent the total funds investment in high risk\n",
    "* let t represent the total return\n",
    "\n",
    "### Objective function\n",
    "\n",
    "* max(t): t = 0.07x + 0.08y + 0.12z\n",
    "\n",
    "### Constraints\n",
    "\n",
    "* x >= 3y\n",
    "* z <= 2000\n",
    "* x + y + z == 12000\n",
    "\n",
    "### Bounds\n",
    "\n",
    "* \n",
    "\n",
    "### Answers\n",
    "100, 0.6, 965, 62.5, 12140"
   ]
  },
  {
   "cell_type": "code",
   "execution_count": 1,
   "metadata": {},
   "outputs": [],
   "source": [
    "# import libraries\n",
    "from pulp import *\n",
    "\n",
    "# create the linear programming model\n",
    "lp = LpProblem(\"investment\", LpMaximize)\n",
    "\n",
    "# define variables\n",
    "x = LpVariable(name='bond', lowBound=0, cat='Continuous')\n",
    "y = LpVariable(name='CD', lowBound=0, cat='Continuous')\n",
    "z = LpVariable(name='risk', lowBound=0, cat='Continuous')"
   ]
  },
  {
   "cell_type": "code",
   "execution_count": 2,
   "metadata": {},
   "outputs": [
    {
     "data": {
      "text/plain": [
       "investment:\n",
       "MAXIMIZE\n",
       "0.08*CD + 0.07*bond + 0.12*risk + 0.0\n",
       "VARIABLES\n",
       "CD Continuous\n",
       "bond Continuous\n",
       "risk Continuous"
      ]
     },
     "execution_count": 2,
     "metadata": {},
     "output_type": "execute_result"
    }
   ],
   "source": [
    "# specify objective function\n",
    "lp.objective = 0.07*x + 0.08*y + 0.12*z\n",
    "lp"
   ]
  },
  {
   "cell_type": "code",
   "execution_count": 3,
   "metadata": {},
   "outputs": [],
   "source": [
    "lp.addConstraint(x >= 3*y, 'bond to cd')\n",
    "lp.addConstraint(z <= 2000, 'protein')\n",
    "lp.addConstraint((x) + (y) + z == 12000, 'food-lim')"
   ]
  },
  {
   "cell_type": "code",
   "execution_count": 4,
   "metadata": {},
   "outputs": [
    {
     "name": "stdout",
     "output_type": "stream",
     "text": [
      "1\n",
      "CD = 2500.0\n",
      "bond = 7500.0\n",
      "risk = 2000.0\n",
      "OPT 965.0\n"
     ]
    }
   ],
   "source": [
    "# solve the linear programming problem\n",
    "# 1 = Optimal, 2 = Infeasible, 3 = Unbounded, 4 = Undefined, 5 = Not Solved\n",
    "\n",
    "status = lp.solve(PULP_CBC_CMD(msg=0))\n",
    "print(status)\n",
    "\n",
    "# print solution\n",
    "for var in lp.variables():\n",
    "    print(var,'=',value(var))\n",
    "    \n",
    "print('OPT',value(lp.objective))"
   ]
  }
 ],
 "metadata": {
  "kernelspec": {
   "display_name": "Python 3",
   "language": "python",
   "name": "python3"
  },
  "language_info": {
   "codemirror_mode": {
    "name": "ipython",
    "version": 3
   },
   "file_extension": ".py",
   "mimetype": "text/x-python",
   "name": "python",
   "nbconvert_exporter": "python",
   "pygments_lexer": "ipython3",
   "version": "3.11.9"
  }
 },
 "nbformat": 4,
 "nbformat_minor": 2
}
