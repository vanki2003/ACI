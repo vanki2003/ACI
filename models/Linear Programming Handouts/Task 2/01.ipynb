{
 "cells": [
  {
   "cell_type": "markdown",
   "metadata": {},
   "source": [
    "## Problem 1\n",
    "*You need to buy some filing cabinets. You know that Cabinet X costs $10 per unit, requires 6\n",
    "square feet of floor space, and holds 8 cubic feet of files. Cabinet Y costs $20 per unit,\n",
    "requires 8 square feet of floor space, and holds 12 cubic feet of files. You have been given\n",
    "$140 for this purchase, though you don't have to spend that much. The office has room for no\n",
    "more than 72 square feet of cabinets. How many of which model should you buy, in order to\n",
    "maximise storage volume?*\n",
    "\n",
    "## Variable declarations\n",
    "\n",
    "* x - cabinets x\n",
    "* y - cabinets y\n",
    "* b - budget \n",
    "* v - volume\n",
    "\n",
    "### Objective function\n",
    "\n",
    "* max(v): v = 8x + 12y\n",
    "\n",
    "### Constraints\n",
    "\n",
    "* 10x + 20y <= 140\n",
    "* 6x + 8y <= 72\n",
    "\n",
    "### Bounds\n",
    "\n",
    "* \n",
    "\n",
    "### Answers\n",
    "100, 0.6, 965, 62.5, 12140"
   ]
  },
  {
   "cell_type": "code",
   "execution_count": 10,
   "metadata": {},
   "outputs": [],
   "source": [
    "# import libraries\n",
    "from pulp import *\n",
    "\n",
    "# create the linear programming model\n",
    "lp = LpProblem(\"Volume\", LpMaximize)\n",
    "\n",
    "# define variables\n",
    "x = LpVariable(name='CabinetX', lowBound=0, cat='Integer')\n",
    "y = LpVariable(name='CabinetY', lowBound=0, cat='Integer')"
   ]
  },
  {
   "cell_type": "code",
   "execution_count": 11,
   "metadata": {},
   "outputs": [
    {
     "data": {
      "text/plain": [
       "Volume:\n",
       "MAXIMIZE\n",
       "8*CabinetX + 12*CabinetY + 0\n",
       "VARIABLES\n",
       "0 <= CabinetX Integer\n",
       "0 <= CabinetY Integer"
      ]
     },
     "execution_count": 11,
     "metadata": {},
     "output_type": "execute_result"
    }
   ],
   "source": [
    "# specify objective function\n",
    "lp.objective = 8*x + 12*y\n",
    "lp"
   ]
  },
  {
   "cell_type": "code",
   "execution_count": 12,
   "metadata": {},
   "outputs": [],
   "source": [
    "lp.addConstraint((10*x) + (20*y) <= 140, 'budget')\n",
    "lp.addConstraint((6*x) + (8*y) <= 72, 'area')"
   ]
  },
  {
   "cell_type": "code",
   "execution_count": 13,
   "metadata": {},
   "outputs": [
    {
     "name": "stdout",
     "output_type": "stream",
     "text": [
      "1\n",
      "CabinetX = 8.0\n",
      "CabinetY = 3.0\n",
      "OPT 100.0\n"
     ]
    }
   ],
   "source": [
    "# solve the linear programming problem\n",
    "# 1 = Optimal, 2 = Infeasible, 3 = Unbounded, 4 = Undefined, 5 = Not Solved\n",
    "\n",
    "status = lp.solve(PULP_CBC_CMD(msg=0))\n",
    "print(status)\n",
    "\n",
    "# print solution\n",
    "for var in lp.variables():\n",
    "    print(var,'=',value(var))\n",
    "    \n",
    "print('OPT',value(lp.objective))"
   ]
  }
 ],
 "metadata": {
  "kernelspec": {
   "display_name": "Python 3",
   "language": "python",
   "name": "python3"
  },
  "language_info": {
   "codemirror_mode": {
    "name": "ipython",
    "version": 3
   },
   "file_extension": ".py",
   "mimetype": "text/x-python",
   "name": "python",
   "nbconvert_exporter": "python",
   "pygments_lexer": "ipython3",
   "version": "3.11.9"
  }
 },
 "nbformat": 4,
 "nbformat_minor": 2
}
