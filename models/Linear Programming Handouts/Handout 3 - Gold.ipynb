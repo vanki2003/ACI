{
 "cells": [
  {
   "cell_type": "markdown",
   "metadata": {},
   "source": [
    "# Linear Programming\n",
    "\n",
    "Linear programming is a mathematical technique to achieve the best outcome (such as maximum profit, or least possible cost), whilst having various constraints.\n",
    "\n",
    "For our course, we will be using the `pulp` library which you can find more information __[here](https://www.coin-or.org/PuLP/pulp.html)__.\n",
    "\n",
    "## Problem 3\n",
    "\n",
    "A gold processor has two sources of gold ore, source A and source B. \n",
    "\n",
    "In order to keep his plant running, at least three tons of ore must be processed each day. Ore from source A costs $20 per ton to process, and ore from source B costs $10 per ton to process. Costs must be kept to less than $80 per day. \n",
    "\n",
    "Moreover, Federal Regulations require that the amount of ore from source B cannot exceed twice the amount of ore from source A. \n",
    "\n",
    "If ore from source A yields 2 oz. of gold per ton, and ore from source B yields 3 oz. of gold per ton, how many tons of ore from both sources must be processed each day to maximize the amount of gold extracted subject to the above constraints?\n",
    "\n",
    "<br/>\n",
    "\n",
    "## Setting up the Problem\n",
    "\n",
    "The first task is to set up the problem by:\n",
    "- Creating an `LpProblem`\n",
    "- Defining the variables (including any bounds, and data type)"
   ]
  },
  {
   "cell_type": "code",
   "execution_count": 15,
   "metadata": {},
   "outputs": [],
   "source": [
    "# import libraries\n",
    "from pulp import *\n",
    "\n",
    "# create the linear programming model\n",
    "lp = LpProblem(\"Gold\", LpMaximize)\n",
    "\n",
    "# define variables\n",
    "a = LpVariable(name='Source A', lowBound=0, cat='Integer')\n",
    "b = LpVariable(name='Source B', lowBound=0, cat='Integer')"
   ]
  },
  {
   "cell_type": "markdown",
   "metadata": {},
   "source": [
    "## Determine the Objective\n",
    "\n",
    "Next step is to determine the objective\n",
    "\n",
    "In this case we have: \n",
    "- Source A that has a yield of 2oz per tonne hence we have $2*a$\n",
    "- Source B that has a yield of 3oz per tonne; hence we have $3*b$\n",
    "\n",
    "We want to maximize the profit, so we have $max(p) = 2*a + 3*b$\n",
    "\n",
    "This can be coded as following"
   ]
  },
  {
   "cell_type": "code",
   "execution_count": 16,
   "metadata": {},
   "outputs": [
    {
     "data": {
      "text/plain": [
       "Gold:\n",
       "MAXIMIZE\n",
       "2*Source_A + 3*Source_B + 0\n",
       "VARIABLES\n",
       "0 <= Source_A Integer\n",
       "0 <= Source_B Integer"
      ]
     },
     "execution_count": 16,
     "metadata": {},
     "output_type": "execute_result"
    }
   ],
   "source": [
    "lp.objective = (2*a) + (3*b)\n",
    "lp"
   ]
  },
  {
   "cell_type": "markdown",
   "metadata": {},
   "source": [
    "## Setting up the Constraints\n",
    "\n",
    "The next step is to plot out the constraints. In this case we have:\n",
    "- minimum quota - At least 3 tonnes must be extracted per day, hence: $ a + b >= 3$\n",
    "- cost - The total cost must be less than $80 daily. Source A costs $20 per tonne, and Source B costs $10 per tonne. The total cannot exceed the available budget hence: $20*a + 10*b <= 80$\n",
    "- units -the amount of ore from source B cannot exceed twice the amount of ore from source A hence $2a - b >= 0$\n",
    "\n",
    "More detail about the units constraint. Let's start with the basic premise that the amount extracted from Source B must be less than or equal to twice the amount of ore extracted from source A, hence:\n",
    "\n",
    "$2a >= b$\n",
    "\n",
    "Now we subtract $b$ from each side:\n",
    "\n",
    "$2a - b >= 0$\n"
   ]
  },
  {
   "cell_type": "code",
   "execution_count": 17,
   "metadata": {},
   "outputs": [
    {
     "data": {
      "text/plain": [
       "OrderedDict([('quota', 1*Source_A + 1*Source_B + -3 >= 0),\n",
       "             ('budget', 20*Source_A + 10*Source_B + -79 <= 0),\n",
       "             ('reg', -2*Source_A + 1*Source_B + 0 <= 0)])"
      ]
     },
     "execution_count": 17,
     "metadata": {},
     "output_type": "execute_result"
    }
   ],
   "source": [
    "lp.addConstraint(a + b >= 3, 'quota')\n",
    "lp.addConstraint((20*a) + (10*b) <= 79, 'budget')\n",
    "lp.addConstraint(b <= (2*a) , 'reg')\n",
    "lp.constraints"
   ]
  },
  {
   "cell_type": "markdown",
   "metadata": {},
   "source": [
    "## Solving the Problem\n",
    "\n",
    "The last step is to solve the problem. This can be done by calling the `solve` function."
   ]
  },
  {
   "cell_type": "code",
   "execution_count": 18,
   "metadata": {},
   "outputs": [
    {
     "name": "stdout",
     "output_type": "stream",
     "text": [
      "1\n",
      "Source_A = 2.0\n",
      "Source_B = 3.0\n",
      "OPT 13.0\n"
     ]
    }
   ],
   "source": [
    "# solve the linear programming problem\n",
    "# 1 = Optimal, 2 = Infeasible, 3 = Unbounded, 4 = Undefined, 5 = Not Solved\n",
    "\n",
    "status = lp.solve(PULP_CBC_CMD(msg=0))\n",
    "print(status)\n",
    "\n",
    "# print solution\n",
    "for var in lp.variables():\n",
    "    print(var,'=',value(var))\n",
    "    \n",
    "print('OPT',value(lp.objective))"
   ]
  },
  {
   "cell_type": "markdown",
   "metadata": {},
   "source": [
    "If we look at the outcome we have:\n",
    "- status = 1 - The staus is optimal (it can be not solved, infeasible, unbounded or undef)\n",
    "- Source A = 2 tonnes\n",
    "- Source B = 4 tonnes\n",
    "- Maximum = 16 oz of gold\n"
   ]
  }
 ],
 "metadata": {
  "kernelspec": {
   "display_name": "Python 3",
   "language": "python",
   "name": "python3"
  },
  "language_info": {
   "codemirror_mode": {
    "name": "ipython",
    "version": 3
   },
   "file_extension": ".py",
   "mimetype": "text/x-python",
   "name": "python",
   "nbconvert_exporter": "python",
   "pygments_lexer": "ipython3",
   "version": "3.11.9"
  },
  "orig_nbformat": 4
 },
 "nbformat": 4,
 "nbformat_minor": 2
}
