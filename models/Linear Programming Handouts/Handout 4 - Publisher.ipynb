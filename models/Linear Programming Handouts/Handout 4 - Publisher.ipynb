{
 "cells": [
  {
   "cell_type": "markdown",
   "metadata": {},
   "source": [
    "# Linear Programming\n",
    "\n",
    "Linear programming is a mathematical technique to achieve the best outcome (such as maximum profit, or least possible cost), whilst having various constraints.\n",
    "\n",
    "For our course, we will be using the `pulp` library which you can find more information __[here](https://www.coin-or.org/PuLP/pulp.html)__.\n",
    "\n",
    "## Problem 4\n",
    "\n",
    "A publisher has orders for 600 copies of a certain text from San Francisco and 400 copies from Sacramento. \n",
    "\n",
    "The company has 700 copies in a warehouse in Novato and 800 copies in a warehouse in Lodi. \n",
    "\n",
    "It costs $5 to ship a text from Novato to San Francisco, but it costs $10 to ship it to Sacramento. It costs $15 to ship a text from Lodi to San Francisco, but it costs $4 to ship it from Lodi to Sacramento.\n",
    "\n",
    "How many copies should the company ship from each warehouse to San Francisco and Sacramento to fill the order at the least cost?\n",
    "\n",
    "<br/>\n",
    "\n",
    "## Setting up the Problem\n",
    "\n",
    "The first task is to set up the problem by:\n",
    "- Creating an `LpProblem`\n",
    "- Defining the variables (including any bounds, and data type)\n",
    "\n",
    "In this case we have four variables that are obtained from the possible combinations of shipments from each warehouse to each store. Their data type must be `Integer` since we cannot have partials."
   ]
  },
  {
   "cell_type": "code",
   "execution_count": 18,
   "metadata": {},
   "outputs": [],
   "source": [
    "# import libraries\n",
    "from pulp import *\n",
    "\n",
    "# create the linear programming model\n",
    "lp = LpProblem(\"Publisher\", LpMinimize)\n",
    "\n",
    "# define variables\n",
    "a = LpVariable(name='NV_SF', lowBound=0, cat='Integer')\n",
    "b = LpVariable(name='NV_SC', lowBound=0, cat='Integer')\n",
    "c = LpVariable(name='LD_SF', lowBound=0, cat='Integer')\n",
    "d = LpVariable(name='LD_SC', lowBound=0, cat='Integer')"
   ]
  },
  {
   "cell_type": "markdown",
   "metadata": {},
   "source": [
    "## Determine the Objective\n",
    "\n",
    "Next step is to determine the objective\n",
    "\n",
    "In this case we have: \n",
    "- Novato to San Francisco (a) costs $5\n",
    "- Novato to Sacramento (b) costs $10\n",
    "- Lodi to San Francisco (c) costs $15\n",
    "- Lodi to Sacramento (d) costs $4\n",
    "\n",
    "We want to minimize the delivery cost, so we have $min(p) = 5a + 10b + 15c + 4d $\n",
    "\n",
    "This can be coded as following"
   ]
  },
  {
   "cell_type": "code",
   "execution_count": 19,
   "metadata": {},
   "outputs": [],
   "source": [
    "lp.objective = (5*a) + (10*b) + (15*c) + (4*d)"
   ]
  },
  {
   "cell_type": "markdown",
   "metadata": {},
   "source": [
    "## Setting up the Constraints\n",
    "\n",
    "The next step is to plot out the constraints. In this case we have the following:\n",
    "- Delivery from Novato cannot exceed 700 copies\n",
    "- Delivery from Lodi cannot exceed 800 copies\n",
    "- San Francisco store must have exactly 600 copies\n",
    "- Sacramento store must have exactly 400 copies\n",
    "\n",
    "If we represent this in a table we have:\n",
    "\n",
    "| Novato to SF (a) | Novato to Sac. (b) | Lodi to SF (c) | Lodi to Sac. (d) | Limit |\n",
    "| --- | --- | --- | --- | --- |\n",
    "| 1 | 1 | 0 | 0 | <=700 |\n",
    "| 0 | 0 | 1 | 1 | <=800 |\n",
    "| 1 | 0 | 1 | 0 | = 600 |\n",
    "| 0 | 1 | 0 | 1 | = 400 |\n",
    "\n"
   ]
  },
  {
   "cell_type": "code",
   "execution_count": 20,
   "metadata": {},
   "outputs": [],
   "source": [
    "lp.addConstraint(a+b <= 700, 'NV supply limit')\n",
    "lp.addConstraint(c+d <= 800, 'LD supply limit')\n",
    "lp.addConstraint(a+c == 600, 'SF Demand')\n",
    "lp.addConstraint(b+d == 400, 'SC demand')"
   ]
  },
  {
   "cell_type": "markdown",
   "metadata": {},
   "source": [
    "## Solving the Problem\n",
    "\n",
    "The last step is to solve the problem. This can be done by calling the `solve` function."
   ]
  },
  {
   "cell_type": "code",
   "execution_count": 21,
   "metadata": {},
   "outputs": [
    {
     "name": "stdout",
     "output_type": "stream",
     "text": [
      "1\n",
      "LD_SC = 400.0\n",
      "LD_SF = 0.0\n",
      "NV_SC = 0.0\n",
      "NV_SF = 600.0\n",
      "OPT 4600.0\n"
     ]
    }
   ],
   "source": [
    "# solve the linear programming problem\n",
    "# 1 = Optimal, 2 = Infeasible, 3 = Unbounded, 4 = Undefined, 5 = Not Solved\n",
    "\n",
    "status = lp.solve(PULP_CBC_CMD(msg=0))\n",
    "print(status)\n",
    "\n",
    "# print solution\n",
    "for var in lp.variables():\n",
    "    print(var,'=',value(var))\n",
    "    \n",
    "print('OPT',value(lp.objective))"
   ]
  },
  {
   "cell_type": "markdown",
   "metadata": {},
   "source": [
    "If we look at the outcome we have:\n",
    "\n",
    "status = 1 - The staus is optimal (it can be not solved, infeasible, unbounded or undef)\n",
    "\n",
    "Deliveries should be done From Lodi to Sacramento (400), and Novato to San Francisco (600).\n",
    "This will cost 4600."
   ]
  }
 ],
 "metadata": {
  "kernelspec": {
   "display_name": "Python 3",
   "language": "python",
   "name": "python3"
  },
  "language_info": {
   "codemirror_mode": {
    "name": "ipython",
    "version": 3
   },
   "file_extension": ".py",
   "mimetype": "text/x-python",
   "name": "python",
   "nbconvert_exporter": "python",
   "pygments_lexer": "ipython3",
   "version": "3.11.9"
  },
  "orig_nbformat": 4
 },
 "nbformat": 4,
 "nbformat_minor": 2
}
