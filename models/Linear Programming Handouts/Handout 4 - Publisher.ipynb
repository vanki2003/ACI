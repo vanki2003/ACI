{
 "cells": [
  {
   "cell_type": "markdown",
   "metadata": {},
   "source": [
    "# Linear Programming\n",
    "\n",
    "Linear programming is a mathematical technique to achieve the best outcome (such as maximum profit, or least possible cost), whilst having various constraints.\n",
    "\n",
    "For our course, we will be using the `pulp` library which you can find more information __[here](https://www.coin-or.org/PuLP/pulp.html)__.\n",
    "\n",
    "## Problem 4\n",
    "\n",
    "A publisher has orders for 600 copies of a certain text from San Francisco and 400 copies from Sacramento. \n",
    "\n",
    "The company has 700 copies in a warehouse in Novato and 800 copies in a warehouse in Lodi. \n",
    "\n",
    "It costs $5 to ship a text from Novato to San Francisco, but it costs $10 to ship it to Sacramento. It costs $15 to ship a text from Lodi to San Francisco, but it costs $4 to ship it from Lodi to Sacramento.\n",
    "\n",
    "How many copies should the company ship from each warehouse to San Francisco and Sacramento to fill the order at the least cost?\n",
    "\n",
    "<br/>\n",
    "\n",
    "## Setting up the Problem\n",
    "\n",
    "The first task is to set up the problem by:\n",
    "- Creating an `LpProblem`\n",
    "- Defining the variables (including any bounds, and data type)\n",
    "\n",
    "In this case we have four variables that are obtained from the possible combinations of shipments from each warehouse to each store. Their data type must be `Integer` since we cannot have partials."
   ]
  },
  {
   "cell_type": "code",
   "execution_count": 1,
   "metadata": {},
   "outputs": [],
   "source": []
  },
  {
   "cell_type": "markdown",
   "metadata": {},
   "source": [
    "## Determine the Objective\n",
    "\n",
    "Next step is to determine the objective\n",
    "\n",
    "In this case we have: \n",
    "- Novato to San Francisco (a) costs $5\n",
    "- Novato to Sacramento (b) costs $10\n",
    "- Lodi to San Francisco (c) costs $15\n",
    "- Lodi to Sacramento (d) costs $4\n",
    "\n",
    "We want to minimize the delivery cost, so we have $min(p) = 5a + 10b + 15c + 4d $\n",
    "\n",
    "This can be coded as following"
   ]
  },
  {
   "cell_type": "code",
   "execution_count": 2,
   "metadata": {},
   "outputs": [
    {
     "name": "stdout",
     "output_type": "stream",
     "text": [
      "Shipping:\n",
      "MINIMIZE\n",
      "15*Lodi_to_SF + 4*Lodi_to_Sacramento + 5*Novato_to_SF + 10*Novato_to_Sacramento + 0\n",
      "VARIABLES\n",
      "0 <= Lodi_to_SF Integer\n",
      "0 <= Lodi_to_Sacramento Integer\n",
      "0 <= Novato_to_SF Integer\n",
      "0 <= Novato_to_Sacramento Integer\n",
      "\n"
     ]
    }
   ],
   "source": []
  },
  {
   "cell_type": "markdown",
   "metadata": {},
   "source": [
    "## Setting up the Constraints\n",
    "\n",
    "The next step is to plot out the constraints. In this case we have the following:\n",
    "- Delivery from Lodi cannot exceed 700 copies since that's we have in Lodi\n",
    "- Delivery from Novato cannot exceed 800 copies since that's we have in Novato\n",
    "- San Francisco store must have exactly 600 copies\n",
    "- Sacramento store must have exactly 400 copies\n",
    "\n",
    "If we represent this in a table we have:\n",
    "\n",
    "| Lodi to SF (a) | Lodi to Sac. (b) | Novato to SF (c) | Novato to Sac. (d) | Limit |\n",
    "| --- | --- | --- | --- | --- |\n",
    "| 1 | 1 | 0 | 0 | <=700 |\n",
    "| 0 | 0 | 1 | 1 | <=800 |\n",
    "| 1 | 0 | 1 | 0 | = 600 |\n",
    "| 0 | 1 | 0 | 1 | = 400 |\n",
    "\n"
   ]
  },
  {
   "cell_type": "code",
   "execution_count": 3,
   "metadata": {},
   "outputs": [
    {
     "name": "stdout",
     "output_type": "stream",
     "text": [
      "OrderedDict([('lodi_constraint', 1*Novato_to_SF + 1*Novato_to_Sacramento + -700 <= 0), ('novato_constraint', 1*Lodi_to_SF + 1*Lodi_to_Sacramento + -800 <= 0), ('sf_constraint', 1*Lodi_to_SF + 1*Novato_to_SF + -600 = 0), ('sac_constraint', 1*Lodi_to_Sacramento + 1*Novato_to_Sacramento + -400 = 0)])\n"
     ]
    }
   ],
   "source": []
  },
  {
   "cell_type": "markdown",
   "metadata": {},
   "source": [
    "## Solving the Problem\n",
    "\n",
    "The last step is to solve the problem. This can be done by calling the `solve` function."
   ]
  },
  {
   "cell_type": "code",
   "execution_count": 4,
   "metadata": {},
   "outputs": [
    {
     "name": "stdout",
     "output_type": "stream",
     "text": [
      "Status: 1\n",
      "Lodi_to_SF = 0.0\n",
      "Lodi_to_Sacramento = 400.0\n",
      "Novato_to_SF = 600.0\n",
      "Novato_to_Sacramento = 0.0\n",
      "OPT = 4600.0\n"
     ]
    }
   ],
   "source": []
  },
  {
   "cell_type": "markdown",
   "metadata": {},
   "source": [
    "If we look at the outcome we have:\n",
    "\n",
    "status = 1 - The staus is optimal (it can be not solved, infeasible, unbounded or undef)\n",
    "\n",
    "Deliveries should be done From Lodi to Sacramento (400), and Novato to San Francisco (600).\n",
    "This will cost 4600."
   ]
  }
 ],
 "metadata": {
  "kernelspec": {
   "display_name": "Python 3.10.4 ('aci')",
   "language": "python",
   "name": "python3"
  },
  "language_info": {
   "codemirror_mode": {
    "name": "ipython",
    "version": 3
   },
   "file_extension": ".py",
   "mimetype": "text/x-python",
   "name": "python",
   "nbconvert_exporter": "python",
   "pygments_lexer": "ipython3",
   "version": "3.10.4"
  },
  "orig_nbformat": 4,
  "vscode": {
   "interpreter": {
    "hash": "a77ce7f27ea8dfe1608105db27af771d180d493f4c1d8f79fe6656595f97657f"
   }
  }
 },
 "nbformat": 4,
 "nbformat_minor": 2
}
