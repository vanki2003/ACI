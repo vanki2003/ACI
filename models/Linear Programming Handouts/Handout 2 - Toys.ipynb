{
 "cells": [
  {
   "cell_type": "markdown",
   "metadata": {},
   "source": [
    "# Linear Programming\n",
    "\n",
    "Linear programming is a mathematical technique to achieve the best outcome (such as maximum profit, or least possible cost), whilst having various constraints.\n",
    "\n",
    "For our course, we will be using the `pulp` library which you can find more information __[here](https://www.coin-or.org/PuLP/pulp.html)__.\n",
    "\n",
    "## Problem 2\n",
    "\n",
    "A store sells two types of toys, A and B. The store owner pays $8 and $14 for each one unit of toy A and B respectively.\n",
    "\n",
    "One unit of toys A yields a profit of $2 while a unit of toys B yields a profit of $3. The store owner estimates that no more than 2000 toys will be sold every month and he does not plan to invest more than $20,000 of these toys.\n",
    "\n",
    "How many units of each type of toys should be stocked in order to maximize his monthly total profit?\n",
    "\n",
    "<br/>\n",
    "\n",
    "## Setting up the Problem\n",
    "\n",
    "The first task is to set up the problem by:\n",
    "- Creating an `LpProblem`\n",
    "- Defining the variables (including any bounds, and data type)"
   ]
  },
  {
   "cell_type": "markdown",
   "metadata": {},
   "source": [
    "# Variable declaration\n",
    "let p represent the total profit, <br />\n",
    "a represent total units of toy A, <br />\n",
    "b represent total units of toy B. <br />\n",
    "<br />\n",
    "# Objective function<br />\n",
    "max(p): p = 2a + 3b<br />\n",
    "<br />\n",
    "# Constraints<br />\n",
    "a + b <= 2000 [inventory]<br />\n",
    "8a + 14b <= 20000 [budget]<br />\n",
    "<br />\n",
    "# Bounds<br />\n",
    "a >= 0<br />\n",
    "b >=0<br />"
   ]
  },
  {
   "cell_type": "code",
   "execution_count": 1,
   "metadata": {},
   "outputs": [],
   "source": []
  },
  {
   "cell_type": "markdown",
   "metadata": {},
   "source": [
    "## Determine the Objective\n",
    "\n",
    "Next step is to determine the objective\n",
    "\n",
    "In this case we have: \n",
    "- Toy A that has a net profit of 2 hence we have $2*a$\n",
    "- Toy B that has a net profit of 3; hence we have $3*b$\n",
    "\n",
    "We want to maximize the profit, so we have $max(p) = 2*a + 3*b$\n",
    "\n",
    "This can be coded as following"
   ]
  },
  {
   "cell_type": "code",
   "execution_count": 2,
   "metadata": {},
   "outputs": [
    {
     "name": "stdout",
     "output_type": "stream",
     "text": [
      "Toys:\n",
      "MAXIMIZE\n",
      "2*Toy_A + 3*Toy_B + 0\n",
      "VARIABLES\n",
      "0 <= Toy_A Integer\n",
      "0 <= Toy_B Integer\n",
      "\n"
     ]
    }
   ],
   "source": []
  },
  {
   "cell_type": "markdown",
   "metadata": {},
   "source": [
    "## Setting up the Constraints\n",
    "\n",
    "The next step is to plot out the constraints. In this case we have:\n",
    "- investment - The total budget is $20,000, Toy A costs $8 per unit, and Toy B costs $14 per unit. The total cannot exceed the available budget hence: $8*a + 14*b <= 20000$\n",
    "- units - The total estimated units to sold is 2000. The total of Toy A and Toy B cannot exceed the available storage, hence: $a + b <=2000$"
   ]
  },
  {
   "cell_type": "code",
   "execution_count": 3,
   "metadata": {},
   "outputs": [
    {
     "name": "stdout",
     "output_type": "stream",
     "text": [
      "OrderedDict([('budget_constraint', 8*Toy_A + 14*Toy_B + -20000 <= 0), ('unit_constraint', 1*Toy_A + 1*Toy_B + -2000 <= 0)])\n"
     ]
    }
   ],
   "source": []
  },
  {
   "cell_type": "markdown",
   "metadata": {},
   "source": [
    "## Solving the Problem\n",
    "\n",
    "The last step is to solve the problem. This can be done by calling the `solve` function."
   ]
  },
  {
   "cell_type": "code",
   "execution_count": 4,
   "metadata": {},
   "outputs": [
    {
     "name": "stdout",
     "output_type": "stream",
     "text": [
      "Status: 1\n",
      "Toy_A = 1334.0\n",
      "Toy_B = 666.0\n",
      "OPT = 4666.0\n"
     ]
    }
   ],
   "source": []
  },
  {
   "cell_type": "markdown",
   "metadata": {},
   "source": [
    "If we look at the outcome we have:\n",
    "- status = 1 - The staus is optimal (it can be not solved, infeasible, unbounded or undef)\n",
    "- Toy A = 1334\n",
    "- Toy B = 666 \n",
    "- Opt = 4666\n"
   ]
  }
 ],
 "metadata": {
  "kernelspec": {
   "display_name": "Python 3.10.4 ('aci')",
   "language": "python",
   "name": "python3"
  },
  "language_info": {
   "codemirror_mode": {
    "name": "ipython",
    "version": 3
   },
   "file_extension": ".py",
   "mimetype": "text/x-python",
   "name": "python",
   "nbconvert_exporter": "python",
   "pygments_lexer": "ipython3",
   "version": "3.10.4"
  },
  "orig_nbformat": 4,
  "vscode": {
   "interpreter": {
    "hash": "a77ce7f27ea8dfe1608105db27af771d180d493f4c1d8f79fe6656595f97657f"
   }
  }
 },
 "nbformat": 4,
 "nbformat_minor": 2
}
