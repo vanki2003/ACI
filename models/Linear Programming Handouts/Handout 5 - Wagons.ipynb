{
 "cells": [
  {
   "cell_type": "markdown",
   "metadata": {},
   "source": [
    "# Linear Programming\n",
    "\n",
    "Linear programming is a mathematical technique to achieve the best outcome (such as maximum profit, or least possible cost), whilst having various constraints.\n",
    "\n",
    "For our course, we will be using the `pulp` library which you can find more information __[here](https://www.coin-or.org/PuLP/pulp.html)__.\n",
    "\n",
    "## Problem 5\n",
    "\n",
    "A trading company is looking for a way to maximize profit per transportation of their goods. \n",
    "\n",
    "The company has a train available with 3 wagons. When stocking the wagons they can choose between 4 types of cargo, each with its own specifications. How much of each\n",
    "cargo type should be loaded on which wagon in order to maximize profit?\n",
    "\n",
    "<br/>\n",
    "\n",
    "Wagons Specification\n",
    "\n",
    "| Train Wagon | Weight Capacity (Tonnes) | Space Capacity ($m^2$) |\n",
    "| --- | --- | --- |\n",
    "| w1 | 10 | 5000 |\n",
    "| w2 | 8 | 4000 |\n",
    "| 23 | 12 | 8000 |\n",
    "\n",
    "<br/>\n",
    "\n",
    "Cargo Specifications\n",
    "\n",
    "| Cargo Type | Available (Tonne) | Volume ($m^2$) | Profit (per Tonne) |\n",
    "| --- | --- | --- | --- |\n",
    "| c1 | 18 | 400 | 2000 |\n",
    "| c2 | 10 | 300 | 2500 |\n",
    "| c3 | 5 | 200 | 5000 |\n",
    "| c4 | 20 | 500 | 3500 |\n",
    "\n",
    "<br/>\n",
    "\n",
    "## Setting up the Problem\n",
    "\n",
    "The first task is to set up the problem by:\n",
    "- Creating an `LpProblem`\n",
    "- Defining the variables (including any bounds, and data type)\n",
    "\n",
    "In this case we have 12 variables that are obtained from the possible combinations of wagons and the type of cargo they can carry ($3wagons * 4cargotypes$). Their data type must be `Integer` since we cannot have partials."
   ]
  },
  {
   "cell_type": "code",
   "execution_count": 25,
   "metadata": {},
   "outputs": [],
   "source": [
    "from pulp import *"
   ]
  },
  {
   "cell_type": "code",
   "execution_count": 26,
   "metadata": {},
   "outputs": [],
   "source": [
    "lp = LpProblem(\"Wagons\", LpMaximize)\n",
    "\n",
    "a = LpVariable(name=\"w1c1\", lowBound=0, cat=\"Integer\")\n",
    "b = LpVariable(name=\"w1c2\", lowBound=0, cat=\"Integer\")\n",
    "c = LpVariable(name=\"w1c3\", lowBound=0, cat=\"Integer\")\n",
    "d = LpVariable(name=\"w1c4\", lowBound=0, cat=\"Integer\")\n",
    "e = LpVariable(name=\"w2c1\", lowBound=0, cat=\"Integer\")\n",
    "f = LpVariable(name=\"w2c2\", lowBound=0, cat=\"Integer\")\n",
    "g = LpVariable(name=\"w2c3\", lowBound=0, cat=\"Integer\")\n",
    "h = LpVariable(name=\"w2c4\", lowBound=0, cat=\"Integer\")\n",
    "i = LpVariable(name=\"w3c1\", lowBound=0, cat=\"Integer\")\n",
    "j = LpVariable(name=\"w3c2\", lowBound=0, cat=\"Integer\")\n",
    "k = LpVariable(name=\"w3c3\", lowBound=0, cat=\"Integer\")\n",
    "l = LpVariable(name=\"w3c4\", lowBound=0, cat=\"Integer\")"
   ]
  },
  {
   "cell_type": "markdown",
   "metadata": {},
   "source": [
    "## Determine the Objective\n",
    "\n",
    "Next step is to determine the objective\n",
    "\n",
    "In this case we have to maximise profit so, we need to take care of that by multiplying each wagon with each possible type of cargo's profit.\n",
    "\n",
    "So we have $max(p) = 2000a + 2500b + 5000c + 3500d + 2000e + 2500f + 5000g + 3500h + 2000i + 2500j + 5000k + 3500l $\n",
    "\n",
    "This can be coded as following"
   ]
  },
  {
   "cell_type": "code",
   "execution_count": 27,
   "metadata": {},
   "outputs": [],
   "source": [
    "lp.objective  = 2000*a + 2500*b + 5000*c + 3500*d + 2000*e + 2500*f + 5000*g + 3500*h + 2000*i + 2500*j + 5000*k + 3500*l"
   ]
  },
  {
   "cell_type": "markdown",
   "metadata": {},
   "source": [
    "## Setting up the Constraints\n",
    "\n",
    "The next step is to plot out the constraints. In this case we have the following:\n",
    "- Wagon 1 weight cannot exceed 10 tonnes: $ a + b + c +d <= 10 $\n",
    "- Wagon 2 weight cannot exceed 8 tonnes: $ e + f + g + h <= 8 $\n",
    "- Wagon 3 weight cannot exceed 12 tonnes: $ i + j + k + l <= 12 $\n",
    "- Wagon 1 space cannot exceed 5000 $m^2$ :  $400a + 300b + 200c + 500d <= 5000 $ \n",
    "- Wagon 2 space cannot exceed 4000 $m^2$ :  $400e + 300f + 200g + 500h <= 4000 $ \n",
    "- Wagon 3 space cannot exceed 8000 $m^2$ :  $400i + 300j + 200k + 500l <= 8000 $ \n",
    "- There are 18 tonnes available of Cargo 1 : $ a + e + i <= 18$\n",
    "- There are 10 tonnes available of Cargo 2 : $ b + f + j <= 10$\n",
    "- There are 5 tonnes available of Cargo 3 : $ c + g + k <= 5$\n",
    "- There are 20 tonnes available of Cargo 4 : $ d + h + l <= 20$ \n",
    "\n"
   ]
  },
  {
   "cell_type": "code",
   "execution_count": 28,
   "metadata": {},
   "outputs": [],
   "source": [
    "lp.addConstraint(a+b+c+d <= 10, 'w1_limit')\n",
    "lp.addConstraint(e+f+g+h <= 8, 'w2_limit')\n",
    "lp.addConstraint(i+j+k+l <= 12, 'w3_limit')\n",
    "lp.addConstraint(a+e+i <= 18, 'c1_limit')\n",
    "lp.addConstraint(b+f+j <= 10, 'c2_limit')\n",
    "lp.addConstraint(c+g+k <= 5, 'c3_limit')\n",
    "lp.addConstraint(d+h+l <= 20, 'c4_limit')\n",
    "lp.addConstraint(400*a + 300*b + 200*c + 500*d <= 5000, 'p1_limit')\n",
    "lp.addConstraint(400*e + 300*f + 200*g + 500*h <= 4000, 'p2_limit')\n",
    "lp.addConstraint(400*i + 300*j + 200*k + 500*l <= 8000, 'p3_limit')"
   ]
  },
  {
   "cell_type": "markdown",
   "metadata": {},
   "source": [
    "## Solving the Problem\n",
    "\n",
    "The last step is to solve the problem. This can be done by calling the `solve` function."
   ]
  },
  {
   "cell_type": "code",
   "execution_count": 29,
   "metadata": {},
   "outputs": [
    {
     "name": "stdout",
     "output_type": "stream",
     "text": [
      "1\n",
      "w1c1 = 0.0\n",
      "w1c2 = 2.0\n",
      "w1c3 = 0.0\n",
      "w1c4 = 8.0\n",
      "w2c1 = 0.0\n",
      "w2c2 = 3.0\n",
      "w2c3 = 5.0\n",
      "w2c4 = 0.0\n",
      "w3c1 = 0.0\n",
      "w3c2 = 0.0\n",
      "w3c3 = 0.0\n",
      "w3c4 = 12.0\n",
      "OPT 107500.0\n"
     ]
    }
   ],
   "source": [
    "# solve the linear programming problem\n",
    "# 1 = Optimal, 2 = Infeasible, 3 = Unbounded, 4 = Undefined, 5 = Not Solved\n",
    "\n",
    "status = lp.solve(PULP_CBC_CMD(msg=0))\n",
    "print(status)\n",
    "\n",
    "# print solution\n",
    "for var in lp.variables():\n",
    "    print(var,'=',value(var))\n",
    "    \n",
    "print('OPT',value(lp.objective))"
   ]
  },
  {
   "cell_type": "markdown",
   "metadata": {},
   "source": [
    "If we look at the outcome we have:\n",
    "\n",
    "status = 1 - The staus is optimal (it can be not solved, infeasible, unbounded or undef)\n",
    "\n",
    "We should load:\n",
    "- wagon 1 with 2 tonnes of cargo 2, and 8 tonnes of cargo 4\n",
    "- wagon 2 with 2 tonnes of cargo 2, and 5 tonnes of cargo 3\n",
    "- wagon 3 with 12 tonnes of cargo 4\n",
    "\n",
    "The profit would be $107,500.\n"
   ]
  }
 ],
 "metadata": {
  "kernelspec": {
   "display_name": "Python 3",
   "language": "python",
   "name": "python3"
  },
  "language_info": {
   "codemirror_mode": {
    "name": "ipython",
    "version": 3
   },
   "file_extension": ".py",
   "mimetype": "text/x-python",
   "name": "python",
   "nbconvert_exporter": "python",
   "pygments_lexer": "ipython3",
   "version": "3.11.9"
  },
  "orig_nbformat": 4
 },
 "nbformat": 4,
 "nbformat_minor": 2
}
