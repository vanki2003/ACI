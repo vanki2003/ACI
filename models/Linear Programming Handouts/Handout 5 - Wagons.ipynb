{
 "cells": [
  {
   "cell_type": "markdown",
   "metadata": {},
   "source": [
    "# Linear Programming\n",
    "\n",
    "Linear programming is a mathematical technique to achieve the best outcome (such as maximum profit, or least possible cost), whilst having various constraints.\n",
    "\n",
    "For our course, we will be using the `pulp` library which you can find more information __[here](https://www.coin-or.org/PuLP/pulp.html)__.\n",
    "\n",
    "## Problem 5\n",
    "\n",
    "A trading company is looking for a way to maximize profit per transportation of their goods. \n",
    "\n",
    "The company has a train available with 3 wagons. When stocking the wagons they can choose between 4 types of cargo, each with its own specifications. How much of each\n",
    "cargo type should be loaded on which wagon in order to maximize profit?\n",
    "\n",
    "<br/>\n",
    "\n",
    "Wagons Specification\n",
    "\n",
    "| Train Wagon | Weight Capacity (Tonnes) | Space Capacity ($m^2$) |\n",
    "| --- | --- | --- |\n",
    "| w1 | 10 | 5000 |\n",
    "| w2 | 8 | 4000 |\n",
    "| 23 | 12 | 8000 |\n",
    "\n",
    "<br/>\n",
    "\n",
    "Cargo Specifications\n",
    "\n",
    "| Cargo Type | Available (Tonne) | Volume ($m^2$) | Profit (per Tonne) |\n",
    "| --- | --- | --- | --- |\n",
    "| c1 | 18 | 400 | 2000 |\n",
    "| c2 | 10 | 300 | 2500 |\n",
    "| c3 | 5 | 200 | 5000 |\n",
    "| c4 | 20 | 500 | 3500 |\n",
    "\n",
    "<br/>\n",
    "\n",
    "## Setting up the Problem\n",
    "\n",
    "The first task is to set up the problem by:\n",
    "- Creating an `LpProblem`\n",
    "- Defining the variables (including any bounds, and data type)\n",
    "\n",
    "In this case we have 12 variables that are obtained from the possible combinations of wagons and the type of cargo they can carry ($3wagons * 4cargotypes$). Their data type must be `Integer` since we cannot have partials."
   ]
  },
  {
   "cell_type": "code",
   "execution_count": 1,
   "metadata": {},
   "outputs": [],
   "source": []
  },
  {
   "cell_type": "markdown",
   "metadata": {},
   "source": [
    "## Determine the Objective\n",
    "\n",
    "Next step is to determine the objective\n",
    "\n",
    "In this case we have to maximise profit so, we need to take care of that by multiplying each wagon with each possible type of cargo's profit.\n",
    "\n",
    "So we have $max(p) = 2000a + 2500b + 5000c + 3500d + 2000e + 2500f + 5000g + 3500h + 2000i + 2500j + 5000k + 3500l $\n",
    "\n",
    "This can be coded as following"
   ]
  },
  {
   "cell_type": "code",
   "execution_count": 2,
   "metadata": {},
   "outputs": [
    {
     "name": "stdout",
     "output_type": "stream",
     "text": [
      "Shipping:\n",
      "MAXIMIZE\n",
      "2000*wagon1_cargo1 + 2500*wagon1_cargo2 + 5000*wagon1_cargo3 + 3500*wagon1_cargo4 + 2000*wagon2_cargo1 + 2500*wagon2_cargo2 + 5000*wagon2_cargo3 + 3500*wagon2_cargo4 + 2000*wagon3_cargo1 + 2500*wagon3_cargo2 + 5000*wagon3_cargo3 + 3500*wagon3_cargo4 + 0\n",
      "VARIABLES\n",
      "0 <= wagon1_cargo1 Integer\n",
      "0 <= wagon1_cargo2 Integer\n",
      "0 <= wagon1_cargo3 Integer\n",
      "0 <= wagon1_cargo4 Integer\n",
      "0 <= wagon2_cargo1 Integer\n",
      "0 <= wagon2_cargo2 Integer\n",
      "0 <= wagon2_cargo3 Integer\n",
      "0 <= wagon2_cargo4 Integer\n",
      "0 <= wagon3_cargo1 Integer\n",
      "0 <= wagon3_cargo2 Integer\n",
      "0 <= wagon3_cargo3 Integer\n",
      "0 <= wagon3_cargo4 Integer\n",
      "\n"
     ]
    }
   ],
   "source": [
    "lp.objective  = 2000*a + 2500*b + 5000*c + 3500*d + 2000*e + 2500*f + 5000*g + 3500*h + 2000*i + 2500*j + 5000*k + 3500*l"
   ]
  },
  {
   "cell_type": "markdown",
   "metadata": {},
   "source": [
    "## Setting up the Constraints\n",
    "\n",
    "The next step is to plot out the constraints. In this case we have the following:\n",
    "- Wagon 1 weight cannot exceed 10 tonnes: $ a + b + c +d <= 10 $\n",
    "- Wagon 2 weight cannot exceed 8 tonnes: $ e + f + g + h <= 8 $\n",
    "- Wagon 3 weight cannot exceed 12 tonnes: $ i + j + k + l <= 12 $\n",
    "- Wagon 1 space cannot exceed 5000 $m^2$ :  $400a + 300b + 200c + 500d <= 5000 $ \n",
    "- Wagon 2 space cannot exceed 4000 $m^2$ :  $400a + 300b + 200c + 500d <= 4000 $ \n",
    "- Wagon 3 space cannot exceed 8000 $m^2$ :  $400a + 300b + 200c + 500d <= 8000 $ \n",
    "- There are 18 tonnes available of Cargo 1 : $ a + e + i <= 18$\n",
    "- There are 10 tonnes available of Cargo 2 : $ b + f + j <= 10$\n",
    "- There are 5 tonnes available of Cargo 3 : $ c + g + k <= 5$\n",
    "- There are 20 tonnes available of Cargo 4 : $ d + h + l <= 20$ \n",
    "\n"
   ]
  },
  {
   "cell_type": "code",
   "execution_count": 3,
   "metadata": {},
   "outputs": [],
   "source": [
    "lp.addConstraint(a+b+c+d <= 10, 'w1_limit')\n",
    "lp.addConstraint(e+f+g+h <= 8, 'w2_limit')\n",
    "lp.addConstraint(i+j+l <= 12, 'w3_limit')\n",
    "lp.addConstraint(a+e+i <= 18, 'c1_limit')\n",
    "lp.addConstraint(b+f+j <= 10, 'c2_limit')\n",
    "lp.addConstraint(c+g+k <= 5, 'c3_limit')\n",
    "lp.addConstraint(d+h+l <= 20, 'c4_limit')\n",
    "lp.addConstraint(400*a + 300*b + 200*c + 500*d <= 5000, 'p1_limit')"
   ]
  },
  {
   "cell_type": "markdown",
   "metadata": {},
   "source": [
    "## Solving the Problem\n",
    "\n",
    "The last step is to solve the problem. This can be done by calling the `solve` function."
   ]
  },
  {
   "cell_type": "code",
   "execution_count": 5,
   "metadata": {},
   "outputs": [
    {
     "name": "stdout",
     "output_type": "stream",
     "text": [
      "Status: 1\n",
      "wagon1_cargo1 = 0\n",
      "wagon1_cargo2 = 0\n",
      "wagon1_cargo3 = 5\n",
      "wagon1_cargo4 = 5\n",
      "wagon2_cargo1 = 0\n",
      "wagon2_cargo2 = 0\n",
      "wagon2_cargo3 = 0\n",
      "wagon2_cargo4 = 8\n",
      "wagon3_cargo1 = 0\n",
      "wagon3_cargo2 = 5\n",
      "wagon3_cargo3 = 0\n",
      "wagon3_cargo4 = 7\n",
      "OPT = 107500\n"
     ]
    }
   ],
   "source": []
  },
  {
   "cell_type": "markdown",
   "metadata": {},
   "source": [
    "If we look at the outcome we have:\n",
    "\n",
    "status = 1 - The staus is optimal (it can be not solved, infeasible, unbounded or undef)\n",
    "\n",
    "We should load:\n",
    "- wagon 1 with 2 tonnes of cargo 2, and 8 tonnes of cargo 4\n",
    "- wagon 2 with 2 tonnes of cargo 2, and 5 tonnes of cargo 3\n",
    "- wagon 3 with 12 tonnes of cargo 4\n",
    "\n",
    "The profit would be $107,500.\n"
   ]
  }
 ],
 "metadata": {
  "kernelspec": {
   "display_name": "Python 3.10.8 64-bit (microsoft store)",
   "language": "python",
   "name": "python3"
  },
  "language_info": {
   "codemirror_mode": {
    "name": "ipython",
    "version": 3
   },
   "file_extension": ".py",
   "mimetype": "text/x-python",
   "name": "python",
   "nbconvert_exporter": "python",
   "pygments_lexer": "ipython3",
   "version": "3.10.8"
  },
  "orig_nbformat": 4,
  "vscode": {
   "interpreter": {
    "hash": "40faf0d886c4f8f8fdbfa407452ad8e6f76ae871a35707b880c5d8fd40185abd"
   }
  }
 },
 "nbformat": 4,
 "nbformat_minor": 2
}
