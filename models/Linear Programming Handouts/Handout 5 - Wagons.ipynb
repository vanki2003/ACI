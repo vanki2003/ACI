{
 "cells": [
  {
   "cell_type": "markdown",
   "metadata": {},
   "source": [
    "# Linear Programming\n",
    "\n",
    "Linear programming is a mathematical technique to achieve the best outcome (such as maximum profit, or least possible cost), whilst having various constraints.\n",
    "\n",
    "For our course, we will be using the `pulp` library which you can find more information __[here](https://www.coin-or.org/PuLP/pulp.html)__.\n",
    "\n",
    "## Problem 5\n",
    "\n",
    "A trading company is looking for a way to maximize profit per transportation of their goods. \n",
    "\n",
    "The company has a train available with 3 wagons. When stocking the wagons they can choose between 4 types of cargo, each with its own specifications. How much of each\n",
    "cargo type should be loaded on which wagon in order to maximize profit?\n",
    "\n",
    "<br/>\n",
    "\n",
    "Wagons Specification\n",
    "\n",
    "| Train Wagon | Weight Capacity (Tonnes) | Space Capacity ($m^2$) |\n",
    "| --- | --- | --- |\n",
    "| w1 | 10 | 5000 |\n",
    "| w2 | 8 | 4000 |\n",
    "| 23 | 12 | 8000 |\n",
    "\n",
    "<br/>\n",
    "\n",
    "Cargo Specifications\n",
    "\n",
    "| Cargo Type | Available (Tonne) | Volume ($m^2$) | Profit (per Tonne) |\n",
    "| --- | --- | --- | --- |\n",
    "| c1 | 18 | 400 | 2000 |\n",
    "| c2 | 10 | 300 | 2500 |\n",
    "| c3 | 5 | 200 | 5000 |\n",
    "| c4 | 20 | 500 | 3500 |\n",
    "\n",
    "<br/>\n",
    "\n",
    "## Setting up the Problem\n",
    "\n",
    "The first task is to set up the problem by:\n",
    "- Creating an `LpProblem`\n",
    "- Defining the variables (including any bounds, and data type)\n",
    "\n",
    "In this case we have 12 variables that are obtained from the possible combinations of wagons and the type of cargo they can carry ($3wagons * 4cargotypes$). Their data type must be `Integer` since we cannot have partials."
   ]
  },
  {
   "cell_type": "code",
   "execution_count": 28,
   "metadata": {},
   "outputs": [],
   "source": [
    "from pulp import *"
   ]
  },
  {
   "cell_type": "code",
   "execution_count": 29,
   "metadata": {},
   "outputs": [],
   "source": [
    "lp = LpProblem(\"Wagons\", LpMaximize)\n",
    "\n",
    "a = LpVariable(name=\"w1c1\", lowBound=0, cat=\"Integer\")\n",
    "b = LpVariable(name=\"w1c2\", lowBound=0, cat=\"Integer\")\n",
    "c = LpVariable(name=\"w1c3\", lowBound=0, cat=\"Integer\")\n",
    "d = LpVariable(name=\"w1c4\", lowBound=0, cat=\"Integer\")\n",
    "e = LpVariable(name=\"w2c1\", lowBound=0, cat=\"Integer\")\n",
    "f = LpVariable(name=\"w2c2\", lowBound=0, cat=\"Integer\")\n",
    "g = LpVariable(name=\"w2c3\", lowBound=0, cat=\"Integer\")\n",
    "h = LpVariable(name=\"w2c4\", lowBound=0, cat=\"Integer\")\n",
    "i = LpVariable(name=\"w3c1\", lowBound=0, cat=\"Integer\")\n",
    "j = LpVariable(name=\"w3c2\", lowBound=0, cat=\"Integer\")\n",
    "k = LpVariable(name=\"w3c3\", lowBound=0, cat=\"Integer\")\n",
    "l = LpVariable(name=\"w3c4\", lowBound=0, cat=\"Integer\")"
   ]
  },
  {
   "cell_type": "markdown",
   "metadata": {},
   "source": [
    "## Determine the Objective\n",
    "\n",
    "Next step is to determine the objective\n",
    "\n",
    "In this case we have to maximise profit so, we need to take care of that by multiplying each wagon with each possible type of cargo's profit.\n",
    "\n",
    "So we have $max(p) = 2000a + 2500b + 5000c + 3500d + 2000e + 2500f + 5000g + 3500h + 2000i + 2500j + 5000k + 3500l $\n",
    "\n",
    "This can be coded as following"
   ]
  },
  {
   "cell_type": "code",
   "execution_count": 30,
   "metadata": {},
   "outputs": [],
   "source": [
    "lp.objective  = 2000*a + 2500*b + 5000*c + 3500*d + 2000*e + 2500*f + 5000*g + 3500*h + 2000*i + 2500*j + 5000*k + 3500*l"
   ]
  },
  {
   "cell_type": "markdown",
   "metadata": {},
   "source": [
    "## Setting up the Constraints\n",
    "\n",
    "The next step is to plot out the constraints. In this case we have the following:\n",
    "- Wagon 1 weight cannot exceed 10 tonnes: $ a + b + c +d <= 10 $\n",
    "- Wagon 2 weight cannot exceed 8 tonnes: $ e + f + g + h <= 8 $\n",
    "- Wagon 3 weight cannot exceed 12 tonnes: $ i + j + k + l <= 12 $\n",
    "- Wagon 1 space cannot exceed 5000 $m^2$ :  $400a + 300b + 200c + 500d <= 5000 $ \n",
    "- Wagon 2 space cannot exceed 4000 $m^2$ :  $400a + 300b + 200c + 500d <= 4000 $ \n",
    "- Wagon 3 space cannot exceed 8000 $m^2$ :  $400a + 300b + 200c + 500d <= 8000 $ \n",
    "- There are 18 tonnes available of Cargo 1 : $ a + e + i <= 18$\n",
    "- There are 10 tonnes available of Cargo 2 : $ b + f + j <= 10$\n",
    "- There are 5 tonnes available of Cargo 3 : $ c + g + k <= 5$\n",
    "- There are 20 tonnes available of Cargo 4 : $ d + h + l <= 20$ \n",
    "\n"
   ]
  },
  {
   "cell_type": "code",
   "execution_count": 31,
   "metadata": {},
   "outputs": [],
   "source": [
    "lp.addConstraint(a+b+c+d <= 10, 'w1_limit')\n",
    "lp.addConstraint(e+f+g+h <= 8, 'w2_limit')\n",
    "lp.addConstraint(i+j+l <= 12, 'w3_limit')\n",
    "lp.addConstraint(a+e+i <= 18, 'c1_limit')\n",
    "lp.addConstraint(b+f+j <= 10, 'c2_limit')\n",
    "lp.addConstraint(c+g+k <= 5, 'c3_limit')\n",
    "lp.addConstraint(d+h+l <= 20, 'c4_limit')\n",
    "lp.addConstraint(400*a + 300*b + 200*c + 500*d <= 5000, 'p1_limit')"
   ]
  },
  {
   "cell_type": "markdown",
   "metadata": {},
   "source": [
    "## Solving the Problem\n",
    "\n",
    "The last step is to solve the problem. This can be done by calling the `solve` function."
   ]
  },
  {
   "cell_type": "code",
   "execution_count": 32,
   "metadata": {},
   "outputs": [
    {
     "ename": "PulpSolverError",
     "evalue": "PULP_CBC_CMD: Not Available (check permissions on /usr/lib/python3/dist-packages/pulp/apis/../solverdir/cbc/linux/64/cbc)",
     "output_type": "error",
     "traceback": [
      "\u001b[0;31m---------------------------------------------------------------------------\u001b[0m",
      "\u001b[0;31mPulpSolverError\u001b[0m                           Traceback (most recent call last)",
      "Cell \u001b[0;32mIn [32], line 4\u001b[0m\n\u001b[1;32m      1\u001b[0m \u001b[38;5;66;03m# solve the linear programming problem\u001b[39;00m\n\u001b[1;32m      2\u001b[0m \u001b[38;5;66;03m# 1 = Optimal, 2 = Infeasible, 3 = Unbounded, 4 = Undefined, 5 = Not Solved\u001b[39;00m\n\u001b[0;32m----> 4\u001b[0m status \u001b[38;5;241m=\u001b[39m \u001b[43mlp\u001b[49m\u001b[38;5;241;43m.\u001b[39;49m\u001b[43msolve\u001b[49m\u001b[43m(\u001b[49m\u001b[43mPULP_CBC_CMD\u001b[49m\u001b[43m(\u001b[49m\u001b[43mmsg\u001b[49m\u001b[38;5;241;43m=\u001b[39;49m\u001b[38;5;241;43m0\u001b[39;49m\u001b[43m)\u001b[49m\u001b[43m)\u001b[49m\n\u001b[1;32m      5\u001b[0m \u001b[38;5;28mprint\u001b[39m(status)\n\u001b[1;32m      7\u001b[0m \u001b[38;5;66;03m# print solution\u001b[39;00m\n",
      "File \u001b[0;32m/usr/lib/python3/dist-packages/pulp/pulp.py:1913\u001b[0m, in \u001b[0;36mLpProblem.solve\u001b[0;34m(self, solver, **kwargs)\u001b[0m\n\u001b[1;32m   1911\u001b[0m \u001b[38;5;66;03m# time it\u001b[39;00m\n\u001b[1;32m   1912\u001b[0m \u001b[38;5;28mself\u001b[39m\u001b[38;5;241m.\u001b[39mstartClock()\n\u001b[0;32m-> 1913\u001b[0m status \u001b[38;5;241m=\u001b[39m \u001b[43msolver\u001b[49m\u001b[38;5;241;43m.\u001b[39;49m\u001b[43mactualSolve\u001b[49m\u001b[43m(\u001b[49m\u001b[38;5;28;43mself\u001b[39;49m\u001b[43m,\u001b[49m\u001b[43m \u001b[49m\u001b[38;5;241;43m*\u001b[39;49m\u001b[38;5;241;43m*\u001b[39;49m\u001b[43mkwargs\u001b[49m\u001b[43m)\u001b[49m\n\u001b[1;32m   1914\u001b[0m \u001b[38;5;28mself\u001b[39m\u001b[38;5;241m.\u001b[39mstopClock()\n\u001b[1;32m   1915\u001b[0m \u001b[38;5;28mself\u001b[39m\u001b[38;5;241m.\u001b[39mrestoreObjective(wasNone, dummyVar)\n",
      "File \u001b[0;32m/usr/lib/python3/dist-packages/pulp/apis/coin_api.py:356\u001b[0m, in \u001b[0;36mPULP_CBC_CMD.actualSolve\u001b[0;34m(self, lp, callback)\u001b[0m\n\u001b[1;32m    354\u001b[0m \u001b[38;5;28;01mdef\u001b[39;00m \u001b[38;5;21mactualSolve\u001b[39m(\u001b[38;5;28mself\u001b[39m, lp, callback\u001b[38;5;241m=\u001b[39m\u001b[38;5;28;01mNone\u001b[39;00m):\n\u001b[1;32m    355\u001b[0m \u001b[38;5;250m    \u001b[39m\u001b[38;5;124;03m\"\"\"Solve a well formulated lp problem\"\"\"\u001b[39;00m\n\u001b[0;32m--> 356\u001b[0m     \u001b[38;5;28;01mraise\u001b[39;00m PulpSolverError(\n\u001b[1;32m    357\u001b[0m         \u001b[38;5;124m\"\u001b[39m\u001b[38;5;124mPULP_CBC_CMD: Not Available (check permissions on \u001b[39m\u001b[38;5;132;01m%s\u001b[39;00m\u001b[38;5;124m)\u001b[39m\u001b[38;5;124m\"\u001b[39m\n\u001b[1;32m    358\u001b[0m         \u001b[38;5;241m%\u001b[39m \u001b[38;5;28mself\u001b[39m\u001b[38;5;241m.\u001b[39mpulp_cbc_path\n\u001b[1;32m    359\u001b[0m     )\n",
      "\u001b[0;31mPulpSolverError\u001b[0m: PULP_CBC_CMD: Not Available (check permissions on /usr/lib/python3/dist-packages/pulp/apis/../solverdir/cbc/linux/64/cbc)"
     ]
    }
   ],
   "source": [
    "# solve the linear programming problem\n",
    "# 1 = Optimal, 2 = Infeasible, 3 = Unbounded, 4 = Undefined, 5 = Not Solved\n",
    "\n",
    "status = lp.solve(PULP_CBC_CMD(msg=0))\n",
    "print(status)\n",
    "\n",
    "# print solution\n",
    "for var in lp.variables():\n",
    "    print(var,'=',value(var))\n",
    "    \n",
    "print('OPT',value(lp.objective))"
   ]
  },
  {
   "cell_type": "markdown",
   "metadata": {},
   "source": [
    "If we look at the outcome we have:\n",
    "\n",
    "status = 1 - The staus is optimal (it can be not solved, infeasible, unbounded or undef)\n",
    "\n",
    "We should load:\n",
    "- wagon 1 with 2 tonnes of cargo 2, and 8 tonnes of cargo 4\n",
    "- wagon 2 with 2 tonnes of cargo 2, and 5 tonnes of cargo 3\n",
    "- wagon 3 with 12 tonnes of cargo 4\n",
    "\n",
    "The profit would be $107,500.\n"
   ]
  }
 ],
 "metadata": {
  "kernelspec": {
   "display_name": "Python 3",
   "language": "python",
   "name": "python3"
  },
  "language_info": {
   "codemirror_mode": {
    "name": "ipython",
    "version": 3
   },
   "file_extension": ".py",
   "mimetype": "text/x-python",
   "name": "python",
   "nbconvert_exporter": "python",
   "pygments_lexer": "ipython3",
   "version": "3.11.2"
  },
  "orig_nbformat": 4
 },
 "nbformat": 4,
 "nbformat_minor": 2
}
